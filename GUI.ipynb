{
 "cells": [
  {
   "cell_type": "code",
   "execution_count": 1,
   "metadata": {},
   "outputs": [],
   "source": [
    "from tkinter import *\n",
    "import config as cf\n",
    "import time"
   ]
  },
  {
   "cell_type": "code",
   "execution_count": null,
   "metadata": {},
   "outputs": [],
   "source": []
  },
  {
   "cell_type": "code",
   "execution_count": 23,
   "metadata": {},
   "outputs": [
    {
     "name": "stdout",
     "output_type": "stream",
     "text": [
      "num=1\n",
      "num=2\n",
      "num=3\n",
      "num=4\n",
      "num=5\n",
      "num=6\n",
      "num=7\n",
      "num=8\n",
      "num=9\n",
      "num=10\n"
     ]
    }
   ],
   "source": [
    "window = Tk()\n",
    "# named the window \n",
    "window.title('OS Bank')\n",
    "# window size\n",
    "window.geometry('890x700')\n",
    "# canvas \n",
    "canvas = Canvas(window,height=700, width=890)\n",
    "# load the picture\n",
    "image_file = PhotoImage(file=\"./Back_ground.png\")\n",
    "# picture position\n",
    "image = canvas.create_image(446.5, 0, anchor='n',image=image_file)\n",
    "num = 0\n",
    "# Transtion Message\n",
    "# Bank Resource, P1Alloc, P2Alloc, P3Alloc, P4Alloc, msg\n",
    "# data = [[5, 3, 4], [2, 2, 1], [0, 1, 3], [2, 3, 0], [3, 0, 3], [\"Unsafe, Please wait in Line again\"]]\n",
    "\n",
    "while num < 10:\n",
    "    num = num +1\n",
    "    print('num=%s' %num)\n",
    "    \n",
    "    # Text Position\n",
    "    name = canvas.create_text(240,260, text = num, fill = 'black', font=('Arial',25))\n",
    "    \n",
    "    JPY = canvas.create_text(560,175, text = num, fill = 'black', font=('Arial',25))\n",
    "    TWD = canvas.create_text(560,205, text = num, fill = 'black', font=('Arial',25))\n",
    "    CNY = canvas.create_text(560,240, text = num, fill = 'black', font=('Arial',25))\n",
    "    \n",
    "    P1R1 = canvas.create_text(205,490, text = num, fill = 'black', font=('Arial',20))\n",
    "    P1R2 = canvas.create_text(280,490, text = num, fill = 'black', font=('Arial',20))\n",
    "    P1R3 = canvas.create_text(355,490, text = num, fill = 'black', font=('Arial',20))\n",
    "    \n",
    "    P2R1 = canvas.create_text(205,550, text = num, fill = 'black', font=('Arial',20))\n",
    "    P2R2 = canvas.create_text(280,550, text = num, fill = 'black', font=('Arial',20))\n",
    "    P2R3 = canvas.create_text(355,550, text = num, fill = 'black', font=('Arial',20)) \n",
    "    \n",
    "    P3R1 = canvas.create_text(205,610, text = num, fill = 'black', font=('Arial',20))\n",
    "    P3R2 = canvas.create_text(280,610, text = num, fill = 'black', font=('Arial',20))\n",
    "    P3R3 = canvas.create_text(355,610, text = num, fill = 'black', font=('Arial',20))\n",
    "    \n",
    "    P4R1 = canvas.create_text(205,670, text = num, fill = 'black', font=('Arial',20))\n",
    "    P4R2 = canvas.create_text(280,670, text = num, fill = 'black', font=('Arial',20))\n",
    "    P4R3 = canvas.create_text(355,670, text = num, fill = 'black', font=('Arial',20))\n",
    "\n",
    "    # msg = canvas.create_text(475, 370, text = num, fill = 'black', font=('Arial',20))\n",
    "    # msg = canvas.create_text(475, 400, text = num, fill = 'black', font=('Arial',20))\n",
    "    window.update()\n",
    "    \n",
    "    # erase \n",
    "    name_erase = canvas.create_rectangle(225, 250, 255, 270, fill = 'light gray', outline=\"\")\n",
    "    JPY_erase = canvas.create_rectangle(545, 165, 575, 185, fill = 'light gray', outline=\"\")\n",
    "    TWD_erase = canvas.create_rectangle(545, 195, 575, 215, fill = 'light gray', outline=\"\")\n",
    "    CNY_erase = canvas.create_rectangle(545, 230, 575, 250, fill = 'light gray', outline=\"\")\n",
    "    \n",
    "    P1R1_erase = canvas.create_rectangle(190, 475, 225, 505, fill = 'light gray', outline=\"\")\n",
    "    P1R2_erase = canvas.create_rectangle(265, 475, 300, 505, fill = 'light gray', outline=\"\")\n",
    "    P1R3_erase = canvas.create_rectangle(340, 475, 375, 505, fill = 'light gray', outline=\"\")\n",
    "    \n",
    "    P2R1_erase = canvas.create_rectangle(190, 535, 225, 565, fill = 'light gray', outline=\"\")\n",
    "    P2R2_erase = canvas.create_rectangle(265, 535, 300, 565, fill = 'light gray', outline=\"\")\n",
    "    P2R3_erase = canvas.create_rectangle(340, 535, 375, 565, fill = 'light gray', outline=\"\")\n",
    "    \n",
    "    P3R1_erase = canvas.create_rectangle(190, 595, 225, 625, fill = 'light gray', outline=\"\")\n",
    "    P3R2_erase = canvas.create_rectangle(265, 595, 300, 625, fill = 'light gray', outline=\"\")\n",
    "    P3R3_erase = canvas.create_rectangle(340, 595, 375, 625, fill = 'light gray', outline=\"\")\n",
    "    \n",
    "    P4R1_erase = canvas.create_rectangle(190, 655, 225, 685, fill = 'light gray', outline=\"\")\n",
    "    P4R2_erase = canvas.create_rectangle(265, 655, 300, 685, fill = 'light gray', outline=\"\")\n",
    "    P4R3_erase = canvas.create_rectangle(340, 655, 375, 685, fill = 'light gray', outline=\"\")\n",
    "    \n",
    "    window.after(1000)\n",
    "    canvas.pack()\n",
    "canvas.mainloop()"
   ]
  },
  {
   "cell_type": "code",
   "execution_count": null,
   "metadata": {},
   "outputs": [],
   "source": []
  }
 ],
 "metadata": {
  "kernelspec": {
   "display_name": "Python 3",
   "language": "python",
   "name": "python3"
  },
  "language_info": {
   "codemirror_mode": {
    "name": "ipython",
    "version": 3
   },
   "file_extension": ".py",
   "mimetype": "text/x-python",
   "name": "python",
   "nbconvert_exporter": "python",
   "pygments_lexer": "ipython3",
   "version": "3.6.5"
  }
 },
 "nbformat": 4,
 "nbformat_minor": 2
}
